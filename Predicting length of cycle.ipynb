{
 "cells": [
  {
   "cell_type": "code",
   "execution_count": 1,
   "id": "bb5fc620",
   "metadata": {},
   "outputs": [],
   "source": [
    "import pandas as pd \n",
    "import numpy as np \n",
    "import seaborn as sns \n",
    "import matplotlib.pyplot as plt"
   ]
  },
  {
   "cell_type": "code",
   "execution_count": 2,
   "id": "96607b53",
   "metadata": {},
   "outputs": [
    {
     "data": {
      "text/html": [
       "<div>\n",
       "<style scoped>\n",
       "    .dataframe tbody tr th:only-of-type {\n",
       "        vertical-align: middle;\n",
       "    }\n",
       "\n",
       "    .dataframe tbody tr th {\n",
       "        vertical-align: top;\n",
       "    }\n",
       "\n",
       "    .dataframe thead th {\n",
       "        text-align: right;\n",
       "    }\n",
       "</style>\n",
       "<table border=\"1\" class=\"dataframe\">\n",
       "  <thead>\n",
       "    <tr style=\"text-align: right;\">\n",
       "      <th></th>\n",
       "      <th>number_of_peak</th>\n",
       "      <th>Age</th>\n",
       "      <th>Length_of_cycle</th>\n",
       "      <th>Estimated_day_of_ovulution</th>\n",
       "      <th>Length_of_Leutal_Phase</th>\n",
       "      <th>Length_of_menses</th>\n",
       "      <th>Unusual_Bleeding</th>\n",
       "      <th>Height</th>\n",
       "      <th>Weight</th>\n",
       "      <th>Income</th>\n",
       "      <th>BMI</th>\n",
       "      <th>Mean_of_length_of_cycle</th>\n",
       "      <th>Menses_score</th>\n",
       "    </tr>\n",
       "  </thead>\n",
       "  <tbody>\n",
       "    <tr>\n",
       "      <th>0</th>\n",
       "      <td>3</td>\n",
       "      <td>18</td>\n",
       "      <td>27</td>\n",
       "      <td>14</td>\n",
       "      <td>9</td>\n",
       "      <td>5</td>\n",
       "      <td>no</td>\n",
       "      <td>5 6</td>\n",
       "      <td>76.0</td>\n",
       "      <td>0</td>\n",
       "      <td>26.3</td>\n",
       "      <td>30</td>\n",
       "      <td>4.0</td>\n",
       "    </tr>\n",
       "    <tr>\n",
       "      <th>1</th>\n",
       "      <td>4</td>\n",
       "      <td>18</td>\n",
       "      <td>25</td>\n",
       "      <td>17</td>\n",
       "      <td>10</td>\n",
       "      <td>6</td>\n",
       "      <td>yes</td>\n",
       "      <td>5 6</td>\n",
       "      <td>76.0</td>\n",
       "      <td>0</td>\n",
       "      <td>26.3</td>\n",
       "      <td>30</td>\n",
       "      <td>5.0</td>\n",
       "    </tr>\n",
       "    <tr>\n",
       "      <th>2</th>\n",
       "      <td>2</td>\n",
       "      <td>19</td>\n",
       "      <td>30</td>\n",
       "      <td>17</td>\n",
       "      <td>13</td>\n",
       "      <td>4</td>\n",
       "      <td>no</td>\n",
       "      <td>5 3</td>\n",
       "      <td>56.0</td>\n",
       "      <td>0</td>\n",
       "      <td>21.9</td>\n",
       "      <td>30</td>\n",
       "      <td>2.0</td>\n",
       "    </tr>\n",
       "    <tr>\n",
       "      <th>3</th>\n",
       "      <td>3</td>\n",
       "      <td>19</td>\n",
       "      <td>28</td>\n",
       "      <td>16</td>\n",
       "      <td>14</td>\n",
       "      <td>6</td>\n",
       "      <td>no</td>\n",
       "      <td>5 1</td>\n",
       "      <td>61.0</td>\n",
       "      <td>0</td>\n",
       "      <td>25.4</td>\n",
       "      <td>30</td>\n",
       "      <td>3.0</td>\n",
       "    </tr>\n",
       "    <tr>\n",
       "      <th>4</th>\n",
       "      <td>2</td>\n",
       "      <td>19</td>\n",
       "      <td>35</td>\n",
       "      <td>18</td>\n",
       "      <td>15</td>\n",
       "      <td>5</td>\n",
       "      <td>no</td>\n",
       "      <td>5'3</td>\n",
       "      <td>55.0</td>\n",
       "      <td>0</td>\n",
       "      <td>21.5</td>\n",
       "      <td>35</td>\n",
       "      <td>5.0</td>\n",
       "    </tr>\n",
       "  </tbody>\n",
       "</table>\n",
       "</div>"
      ],
      "text/plain": [
       "   number_of_peak  Age  Length_of_cycle  Estimated_day_of_ovulution  \\\n",
       "0               3   18               27                          14   \n",
       "1               4   18               25                          17   \n",
       "2               2   19               30                          17   \n",
       "3               3   19               28                          16   \n",
       "4               2   19               35                          18   \n",
       "\n",
       "   Length_of_Leutal_Phase  Length_of_menses Unusual_Bleeding Height  Weight  \\\n",
       "0                       9                 5               no    5 6    76.0   \n",
       "1                      10                 6              yes    5 6    76.0   \n",
       "2                      13                 4               no    5 3    56.0   \n",
       "3                      14                 6               no    5 1    61.0   \n",
       "4                      15                 5               no    5'3    55.0   \n",
       "\n",
       "   Income   BMI  Mean_of_length_of_cycle  Menses_score  \n",
       "0       0  26.3                       30           4.0  \n",
       "1       0  26.3                       30           5.0  \n",
       "2       0  21.9                       30           2.0  \n",
       "3       0  25.4                       30           3.0  \n",
       "4       0  21.5                       35           5.0  "
      ]
     },
     "execution_count": 2,
     "metadata": {},
     "output_type": "execute_result"
    }
   ],
   "source": [
    "#Read the Dataset\n",
    "df = pd.read_csv('period data.csv')\n",
    "df.head()"
   ]
  },
  {
   "cell_type": "code",
   "execution_count": 4,
   "id": "7b94dcf8",
   "metadata": {},
   "outputs": [
    {
     "data": {
      "application/vnd.jupyter.widget-view+json": {
       "model_id": "5c7cb3e0c229492a9d85df9d6f6601c7",
       "version_major": 2,
       "version_minor": 0
      },
      "text/plain": [
       "Summarize dataset:   0%|          | 0/5 [00:00<?, ?it/s]"
      ]
     },
     "metadata": {},
     "output_type": "display_data"
    },
    {
     "data": {
      "application/vnd.jupyter.widget-view+json": {
       "model_id": "3a78ff7a040c4fdd939427699b90807e",
       "version_major": 2,
       "version_minor": 0
      },
      "text/plain": [
       "Generate report structure:   0%|          | 0/1 [00:00<?, ?it/s]"
      ]
     },
     "metadata": {},
     "output_type": "display_data"
    },
    {
     "data": {
      "application/vnd.jupyter.widget-view+json": {
       "model_id": "2a3c1db9b70644ef90b89572861eec31",
       "version_major": 2,
       "version_minor": 0
      },
      "text/plain": [
       "Render HTML:   0%|          | 0/1 [00:00<?, ?it/s]"
      ]
     },
     "metadata": {},
     "output_type": "display_data"
    },
    {
     "data": {
      "application/vnd.jupyter.widget-view+json": {
       "model_id": "2c8ea97e6f69427bb007a5a39346b716",
       "version_major": 2,
       "version_minor": 0
      },
      "text/plain": [
       "Export report to file:   0%|          | 0/1 [00:00<?, ?it/s]"
      ]
     },
     "metadata": {},
     "output_type": "display_data"
    }
   ],
   "source": [
    "#Apply Pandas Profiling\n",
    "from ydata_profiling import ProfileReport\n",
    "prof = ProfileReport(df)\n",
    "prof.to_file(output_file = 'menstrual_data.html')"
   ]
  },
  {
   "cell_type": "code",
   "execution_count": 5,
   "id": "d322641f",
   "metadata": {},
   "outputs": [],
   "source": [
    "import os\n",
    "from pathlib import Path\n",
    "\n",
    "IMAGES_PATH = Path() / \"images\" / \"Data Preprocessing\"\n",
    "IMAGES_PATH.mkdir(parents=True, exist_ok=True)\n",
    "\n",
    "def save_fig(fig_id, tight_layout=True, fig_extension=\"png\", resolution=300):\n",
    "    path = IMAGES_PATH / f\"{fig_id}.{fig_extension}\"\n",
    "    if tight_layout:\n",
    "        plt.tight_layout()\n",
    "    plt.savefig(path, format=fig_extension, dpi=resolution)"
   ]
  },
  {
   "cell_type": "code",
   "execution_count": 6,
   "id": "e10f4cb6",
   "metadata": {},
   "outputs": [
    {
     "data": {
      "text/html": [
       "<div>\n",
       "<style scoped>\n",
       "    .dataframe tbody tr th:only-of-type {\n",
       "        vertical-align: middle;\n",
       "    }\n",
       "\n",
       "    .dataframe tbody tr th {\n",
       "        vertical-align: top;\n",
       "    }\n",
       "\n",
       "    .dataframe thead th {\n",
       "        text-align: right;\n",
       "    }\n",
       "</style>\n",
       "<table border=\"1\" class=\"dataframe\">\n",
       "  <thead>\n",
       "    <tr style=\"text-align: right;\">\n",
       "      <th></th>\n",
       "      <th>number_of_peak</th>\n",
       "      <th>Age</th>\n",
       "      <th>Length_of_cycle</th>\n",
       "      <th>Estimated_day_of_ovulution</th>\n",
       "      <th>Length_of_Leutal_Phase</th>\n",
       "      <th>Length_of_menses</th>\n",
       "      <th>Weight</th>\n",
       "      <th>Income</th>\n",
       "      <th>BMI</th>\n",
       "      <th>Mean_of_length_of_cycle</th>\n",
       "      <th>Menses_score</th>\n",
       "    </tr>\n",
       "  </thead>\n",
       "  <tbody>\n",
       "    <tr>\n",
       "      <th>count</th>\n",
       "      <td>162.000000</td>\n",
       "      <td>162.000000</td>\n",
       "      <td>162.000000</td>\n",
       "      <td>162.000000</td>\n",
       "      <td>162.000000</td>\n",
       "      <td>162.000000</td>\n",
       "      <td>162.000000</td>\n",
       "      <td>162.0</td>\n",
       "      <td>162.000000</td>\n",
       "      <td>162.000000</td>\n",
       "      <td>162.000000</td>\n",
       "    </tr>\n",
       "    <tr>\n",
       "      <th>mean</th>\n",
       "      <td>2.518519</td>\n",
       "      <td>19.333333</td>\n",
       "      <td>29.283951</td>\n",
       "      <td>15.135802</td>\n",
       "      <td>12.753086</td>\n",
       "      <td>5.061728</td>\n",
       "      <td>56.696296</td>\n",
       "      <td>0.0</td>\n",
       "      <td>21.738889</td>\n",
       "      <td>29.320988</td>\n",
       "      <td>3.372840</td>\n",
       "    </tr>\n",
       "    <tr>\n",
       "      <th>std</th>\n",
       "      <td>0.706863</td>\n",
       "      <td>1.453204</td>\n",
       "      <td>4.191783</td>\n",
       "      <td>2.352496</td>\n",
       "      <td>3.270538</td>\n",
       "      <td>1.025703</td>\n",
       "      <td>9.471440</td>\n",
       "      <td>0.0</td>\n",
       "      <td>2.975396</td>\n",
       "      <td>5.319196</td>\n",
       "      <td>1.183112</td>\n",
       "    </tr>\n",
       "    <tr>\n",
       "      <th>min</th>\n",
       "      <td>1.000000</td>\n",
       "      <td>14.000000</td>\n",
       "      <td>22.000000</td>\n",
       "      <td>7.000000</td>\n",
       "      <td>7.000000</td>\n",
       "      <td>1.000000</td>\n",
       "      <td>40.000000</td>\n",
       "      <td>0.0</td>\n",
       "      <td>16.200000</td>\n",
       "      <td>13.000000</td>\n",
       "      <td>1.000000</td>\n",
       "    </tr>\n",
       "    <tr>\n",
       "      <th>25%</th>\n",
       "      <td>2.000000</td>\n",
       "      <td>19.000000</td>\n",
       "      <td>27.000000</td>\n",
       "      <td>14.000000</td>\n",
       "      <td>10.000000</td>\n",
       "      <td>5.000000</td>\n",
       "      <td>51.000000</td>\n",
       "      <td>0.0</td>\n",
       "      <td>20.400000</td>\n",
       "      <td>27.000000</td>\n",
       "      <td>3.000000</td>\n",
       "    </tr>\n",
       "    <tr>\n",
       "      <th>50%</th>\n",
       "      <td>2.000000</td>\n",
       "      <td>19.000000</td>\n",
       "      <td>28.000000</td>\n",
       "      <td>15.000000</td>\n",
       "      <td>13.000000</td>\n",
       "      <td>5.000000</td>\n",
       "      <td>55.000000</td>\n",
       "      <td>0.0</td>\n",
       "      <td>21.600000</td>\n",
       "      <td>30.000000</td>\n",
       "      <td>3.000000</td>\n",
       "    </tr>\n",
       "    <tr>\n",
       "      <th>75%</th>\n",
       "      <td>3.000000</td>\n",
       "      <td>20.000000</td>\n",
       "      <td>30.000000</td>\n",
       "      <td>16.000000</td>\n",
       "      <td>14.000000</td>\n",
       "      <td>6.000000</td>\n",
       "      <td>60.000000</td>\n",
       "      <td>0.0</td>\n",
       "      <td>22.500000</td>\n",
       "      <td>30.000000</td>\n",
       "      <td>4.000000</td>\n",
       "    </tr>\n",
       "    <tr>\n",
       "      <th>max</th>\n",
       "      <td>5.000000</td>\n",
       "      <td>25.000000</td>\n",
       "      <td>40.000000</td>\n",
       "      <td>22.000000</td>\n",
       "      <td>30.000000</td>\n",
       "      <td>8.000000</td>\n",
       "      <td>85.000000</td>\n",
       "      <td>0.0</td>\n",
       "      <td>32.900000</td>\n",
       "      <td>46.000000</td>\n",
       "      <td>5.000000</td>\n",
       "    </tr>\n",
       "  </tbody>\n",
       "</table>\n",
       "</div>"
      ],
      "text/plain": [
       "       number_of_peak         Age  Length_of_cycle  \\\n",
       "count      162.000000  162.000000       162.000000   \n",
       "mean         2.518519   19.333333        29.283951   \n",
       "std          0.706863    1.453204         4.191783   \n",
       "min          1.000000   14.000000        22.000000   \n",
       "25%          2.000000   19.000000        27.000000   \n",
       "50%          2.000000   19.000000        28.000000   \n",
       "75%          3.000000   20.000000        30.000000   \n",
       "max          5.000000   25.000000        40.000000   \n",
       "\n",
       "       Estimated_day_of_ovulution  Length_of_Leutal_Phase  Length_of_menses  \\\n",
       "count                  162.000000              162.000000        162.000000   \n",
       "mean                    15.135802               12.753086          5.061728   \n",
       "std                      2.352496                3.270538          1.025703   \n",
       "min                      7.000000                7.000000          1.000000   \n",
       "25%                     14.000000               10.000000          5.000000   \n",
       "50%                     15.000000               13.000000          5.000000   \n",
       "75%                     16.000000               14.000000          6.000000   \n",
       "max                     22.000000               30.000000          8.000000   \n",
       "\n",
       "           Weight  Income         BMI  Mean_of_length_of_cycle  Menses_score  \n",
       "count  162.000000   162.0  162.000000               162.000000    162.000000  \n",
       "mean    56.696296     0.0   21.738889                29.320988      3.372840  \n",
       "std      9.471440     0.0    2.975396                 5.319196      1.183112  \n",
       "min     40.000000     0.0   16.200000                13.000000      1.000000  \n",
       "25%     51.000000     0.0   20.400000                27.000000      3.000000  \n",
       "50%     55.000000     0.0   21.600000                30.000000      3.000000  \n",
       "75%     60.000000     0.0   22.500000                30.000000      4.000000  \n",
       "max     85.000000     0.0   32.900000                46.000000      5.000000  "
      ]
     },
     "execution_count": 6,
     "metadata": {},
     "output_type": "execute_result"
    }
   ],
   "source": [
    "df.describe()"
   ]
  },
  {
   "cell_type": "code",
   "execution_count": 7,
   "id": "518d590e",
   "metadata": {},
   "outputs": [
    {
     "data": {
      "text/plain": [
       "number_of_peak                0\n",
       "Age                           0\n",
       "Length_of_cycle               0\n",
       "Estimated_day_of_ovulution    0\n",
       "Length_of_Leutal_Phase        0\n",
       "Length_of_menses              0\n",
       "Unusual_Bleeding              0\n",
       "Height                        0\n",
       "Weight                        0\n",
       "Income                        0\n",
       "BMI                           0\n",
       "Mean_of_length_of_cycle       0\n",
       "Menses_score                  0\n",
       "dtype: int64"
      ]
     },
     "execution_count": 7,
     "metadata": {},
     "output_type": "execute_result"
    }
   ],
   "source": [
    "df.isnull().sum()"
   ]
  },
  {
   "cell_type": "code",
   "execution_count": 8,
   "id": "52344840",
   "metadata": {},
   "outputs": [
    {
     "name": "stdout",
     "output_type": "stream",
     "text": [
      "<class 'pandas.core.frame.DataFrame'>\n",
      "RangeIndex: 162 entries, 0 to 161\n",
      "Data columns (total 13 columns):\n",
      " #   Column                      Non-Null Count  Dtype  \n",
      "---  ------                      --------------  -----  \n",
      " 0   number_of_peak              162 non-null    int64  \n",
      " 1   Age                         162 non-null    int64  \n",
      " 2   Length_of_cycle             162 non-null    int64  \n",
      " 3   Estimated_day_of_ovulution  162 non-null    int64  \n",
      " 4   Length_of_Leutal_Phase      162 non-null    int64  \n",
      " 5   Length_of_menses            162 non-null    int64  \n",
      " 6   Unusual_Bleeding            162 non-null    object \n",
      " 7   Height                      162 non-null    object \n",
      " 8   Weight                      162 non-null    float64\n",
      " 9   Income                      162 non-null    int64  \n",
      " 10  BMI                         162 non-null    float64\n",
      " 11  Mean_of_length_of_cycle     162 non-null    int64  \n",
      " 12  Menses_score                162 non-null    float64\n",
      "dtypes: float64(3), int64(8), object(2)\n",
      "memory usage: 16.6+ KB\n"
     ]
    }
   ],
   "source": [
    "df.info()"
   ]
  },
  {
   "cell_type": "code",
   "execution_count": 9,
   "id": "c7bfcab1",
   "metadata": {},
   "outputs": [
    {
     "name": "stdout",
     "output_type": "stream",
     "text": [
      "Unique values in column 'number_of_peak':\n",
      "[3 4 2 5 1]\n",
      "Unique values in column 'Age':\n",
      "[18 19 20 22 23 14 17 25]\n",
      "Unique values in column 'Length_of_cycle':\n",
      "[27 25 30 28 35 40 37 34 26 23 29 24 22 36 38 32]\n",
      "Unique values in column 'Estimated_day_of_ovulution':\n",
      "[14 17 16 18 15 10 11 13  7 20 12 22]\n",
      "Unique values in column 'Length_of_Leutal_Phase':\n",
      "[ 9 10 13 14 15 12 16 11  7  8 19 30]\n",
      "Unique values in column 'Length_of_menses':\n",
      "[5 6 4 3 1 7 8]\n",
      "Unique values in column 'Unusual_Bleeding':\n",
      "['no' 'yes' 'No' 'NO']\n",
      "Unique values in column 'Height':\n",
      "['5 6' '5 3' '5 1' \"5'3\" \"5'4\" \"5'1\" \"5'0\" '5\\'4\"' \"5'9\" \"5'5''\" \"5'6\"\n",
      " \"5'\" \"5'2.5\" \"5'2\" \"4'8\" \"4' 11\" \"5'7\" '5 4' \"5' 4\" \"5'5\" '56' \"5'8\"\n",
      " '5\\'2\"' '5.3\"' '5\\'5\"' '5\\'1\"' '5\\'3\"']\n",
      "Unique values in column 'Weight':\n",
      "[76.  56.  61.  55.  50.  60.  58.  51.  54.  43.  72.  75.  48.  45.5\n",
      " 53.  47.  82.  57.  40.  64.  55.2 65.  62.  85.  84.  52.  70. ]\n",
      "Unique values in column 'Income':\n",
      "[0]\n",
      "Unique values in column 'BMI':\n",
      "[26.3  21.9  25.4  21.5  19.   22.3  24.5  22.2  19.2  20.4  16.6  23.5\n",
      " 22.   27.5  20.   16.2  20.1  24.4  18.2  23.2  16.7  32.9  20.7  22.5\n",
      " 21.6  18.   18.1  22.8  23.   18.4  22.9  20.5  18.75 21.3  22.1  18.9\n",
      " 19.15 30.7  21.   19.5  21.4  20.9  23.6  27.3 ]\n",
      "Unique values in column 'Mean_of_length_of_cycle':\n",
      "[30 35 40 28 26 25 20 38 34 24 13 39 36 27 32 45 46 16]\n",
      "Unique values in column 'Menses_score':\n",
      "[4.  5.  2.  3.  1.  4.2 4.5]\n"
     ]
    }
   ],
   "source": [
    "for column in df.columns:\n",
    "    unique_values = df[column].unique()\n",
    "    print(f\"Unique values in column '{column}':\")\n",
    "    print(unique_values)"
   ]
  },
  {
   "cell_type": "code",
   "execution_count": 10,
   "id": "91bf4265",
   "metadata": {},
   "outputs": [],
   "source": [
    "df[\"Unusual_Bleeding\"]=df[\"Unusual_Bleeding\"].map({\"NO\":0,\"No\":0,\"no\":0,\"yes\":1})\n",
    "df[\"Menses_score\"]=df[\"Menses_score\"].astype(str).map({\"1.0\":0, \"2.0\":1, \"3.0\":2, \"4.0\":3, \"4.2\":4, \"4.5\":5, \"5.0\":6})"
   ]
  },
  {
   "cell_type": "code",
   "execution_count": 11,
   "id": "a68ec120",
   "metadata": {},
   "outputs": [
    {
     "data": {
      "text/html": [
       "<div>\n",
       "<style scoped>\n",
       "    .dataframe tbody tr th:only-of-type {\n",
       "        vertical-align: middle;\n",
       "    }\n",
       "\n",
       "    .dataframe tbody tr th {\n",
       "        vertical-align: top;\n",
       "    }\n",
       "\n",
       "    .dataframe thead th {\n",
       "        text-align: right;\n",
       "    }\n",
       "</style>\n",
       "<table border=\"1\" class=\"dataframe\">\n",
       "  <thead>\n",
       "    <tr style=\"text-align: right;\">\n",
       "      <th></th>\n",
       "      <th>number_of_peak</th>\n",
       "      <th>Age</th>\n",
       "      <th>Length_of_cycle</th>\n",
       "      <th>Estimated_day_of_ovulution</th>\n",
       "      <th>Length_of_Leutal_Phase</th>\n",
       "      <th>Length_of_menses</th>\n",
       "      <th>Unusual_Bleeding</th>\n",
       "      <th>Height</th>\n",
       "      <th>Weight</th>\n",
       "      <th>Income</th>\n",
       "      <th>BMI</th>\n",
       "      <th>Mean_of_length_of_cycle</th>\n",
       "      <th>Menses_score</th>\n",
       "    </tr>\n",
       "  </thead>\n",
       "  <tbody>\n",
       "    <tr>\n",
       "      <th>0</th>\n",
       "      <td>3</td>\n",
       "      <td>18</td>\n",
       "      <td>27</td>\n",
       "      <td>14</td>\n",
       "      <td>9</td>\n",
       "      <td>5</td>\n",
       "      <td>0</td>\n",
       "      <td>5 6</td>\n",
       "      <td>76.0</td>\n",
       "      <td>0</td>\n",
       "      <td>26.3</td>\n",
       "      <td>30</td>\n",
       "      <td>3</td>\n",
       "    </tr>\n",
       "    <tr>\n",
       "      <th>1</th>\n",
       "      <td>4</td>\n",
       "      <td>18</td>\n",
       "      <td>25</td>\n",
       "      <td>17</td>\n",
       "      <td>10</td>\n",
       "      <td>6</td>\n",
       "      <td>1</td>\n",
       "      <td>5 6</td>\n",
       "      <td>76.0</td>\n",
       "      <td>0</td>\n",
       "      <td>26.3</td>\n",
       "      <td>30</td>\n",
       "      <td>6</td>\n",
       "    </tr>\n",
       "    <tr>\n",
       "      <th>2</th>\n",
       "      <td>2</td>\n",
       "      <td>19</td>\n",
       "      <td>30</td>\n",
       "      <td>17</td>\n",
       "      <td>13</td>\n",
       "      <td>4</td>\n",
       "      <td>0</td>\n",
       "      <td>5 3</td>\n",
       "      <td>56.0</td>\n",
       "      <td>0</td>\n",
       "      <td>21.9</td>\n",
       "      <td>30</td>\n",
       "      <td>1</td>\n",
       "    </tr>\n",
       "    <tr>\n",
       "      <th>3</th>\n",
       "      <td>3</td>\n",
       "      <td>19</td>\n",
       "      <td>28</td>\n",
       "      <td>16</td>\n",
       "      <td>14</td>\n",
       "      <td>6</td>\n",
       "      <td>0</td>\n",
       "      <td>5 1</td>\n",
       "      <td>61.0</td>\n",
       "      <td>0</td>\n",
       "      <td>25.4</td>\n",
       "      <td>30</td>\n",
       "      <td>2</td>\n",
       "    </tr>\n",
       "    <tr>\n",
       "      <th>4</th>\n",
       "      <td>2</td>\n",
       "      <td>19</td>\n",
       "      <td>35</td>\n",
       "      <td>18</td>\n",
       "      <td>15</td>\n",
       "      <td>5</td>\n",
       "      <td>0</td>\n",
       "      <td>5'3</td>\n",
       "      <td>55.0</td>\n",
       "      <td>0</td>\n",
       "      <td>21.5</td>\n",
       "      <td>35</td>\n",
       "      <td>6</td>\n",
       "    </tr>\n",
       "  </tbody>\n",
       "</table>\n",
       "</div>"
      ],
      "text/plain": [
       "   number_of_peak  Age  Length_of_cycle  Estimated_day_of_ovulution  \\\n",
       "0               3   18               27                          14   \n",
       "1               4   18               25                          17   \n",
       "2               2   19               30                          17   \n",
       "3               3   19               28                          16   \n",
       "4               2   19               35                          18   \n",
       "\n",
       "   Length_of_Leutal_Phase  Length_of_menses  Unusual_Bleeding Height  Weight  \\\n",
       "0                       9                 5                 0    5 6    76.0   \n",
       "1                      10                 6                 1    5 6    76.0   \n",
       "2                      13                 4                 0    5 3    56.0   \n",
       "3                      14                 6                 0    5 1    61.0   \n",
       "4                      15                 5                 0    5'3    55.0   \n",
       "\n",
       "   Income   BMI  Mean_of_length_of_cycle  Menses_score  \n",
       "0       0  26.3                       30             3  \n",
       "1       0  26.3                       30             6  \n",
       "2       0  21.9                       30             1  \n",
       "3       0  25.4                       30             2  \n",
       "4       0  21.5                       35             6  "
      ]
     },
     "execution_count": 11,
     "metadata": {},
     "output_type": "execute_result"
    }
   ],
   "source": [
    "df.head()"
   ]
  },
  {
   "cell_type": "code",
   "execution_count": 12,
   "id": "598a2d86",
   "metadata": {},
   "outputs": [],
   "source": [
    "df.drop(\"Income\", axis=1, inplace=True)\n",
    "df.drop(\"Height\", axis=1, inplace=True)"
   ]
  },
  {
   "cell_type": "code",
   "execution_count": 13,
   "id": "3d5a6f0d",
   "metadata": {},
   "outputs": [
    {
     "data": {
      "text/html": [
       "<div>\n",
       "<style scoped>\n",
       "    .dataframe tbody tr th:only-of-type {\n",
       "        vertical-align: middle;\n",
       "    }\n",
       "\n",
       "    .dataframe tbody tr th {\n",
       "        vertical-align: top;\n",
       "    }\n",
       "\n",
       "    .dataframe thead th {\n",
       "        text-align: right;\n",
       "    }\n",
       "</style>\n",
       "<table border=\"1\" class=\"dataframe\">\n",
       "  <thead>\n",
       "    <tr style=\"text-align: right;\">\n",
       "      <th></th>\n",
       "      <th>number_of_peak</th>\n",
       "      <th>Age</th>\n",
       "      <th>Length_of_cycle</th>\n",
       "      <th>Estimated_day_of_ovulution</th>\n",
       "      <th>Length_of_Leutal_Phase</th>\n",
       "      <th>Length_of_menses</th>\n",
       "      <th>Unusual_Bleeding</th>\n",
       "      <th>Weight</th>\n",
       "      <th>BMI</th>\n",
       "      <th>Mean_of_length_of_cycle</th>\n",
       "      <th>Menses_score</th>\n",
       "    </tr>\n",
       "  </thead>\n",
       "  <tbody>\n",
       "    <tr>\n",
       "      <th>0</th>\n",
       "      <td>3</td>\n",
       "      <td>18</td>\n",
       "      <td>27</td>\n",
       "      <td>14</td>\n",
       "      <td>9</td>\n",
       "      <td>5</td>\n",
       "      <td>0</td>\n",
       "      <td>76.0</td>\n",
       "      <td>26.3</td>\n",
       "      <td>30</td>\n",
       "      <td>3</td>\n",
       "    </tr>\n",
       "    <tr>\n",
       "      <th>1</th>\n",
       "      <td>4</td>\n",
       "      <td>18</td>\n",
       "      <td>25</td>\n",
       "      <td>17</td>\n",
       "      <td>10</td>\n",
       "      <td>6</td>\n",
       "      <td>1</td>\n",
       "      <td>76.0</td>\n",
       "      <td>26.3</td>\n",
       "      <td>30</td>\n",
       "      <td>6</td>\n",
       "    </tr>\n",
       "    <tr>\n",
       "      <th>2</th>\n",
       "      <td>2</td>\n",
       "      <td>19</td>\n",
       "      <td>30</td>\n",
       "      <td>17</td>\n",
       "      <td>13</td>\n",
       "      <td>4</td>\n",
       "      <td>0</td>\n",
       "      <td>56.0</td>\n",
       "      <td>21.9</td>\n",
       "      <td>30</td>\n",
       "      <td>1</td>\n",
       "    </tr>\n",
       "    <tr>\n",
       "      <th>3</th>\n",
       "      <td>3</td>\n",
       "      <td>19</td>\n",
       "      <td>28</td>\n",
       "      <td>16</td>\n",
       "      <td>14</td>\n",
       "      <td>6</td>\n",
       "      <td>0</td>\n",
       "      <td>61.0</td>\n",
       "      <td>25.4</td>\n",
       "      <td>30</td>\n",
       "      <td>2</td>\n",
       "    </tr>\n",
       "    <tr>\n",
       "      <th>4</th>\n",
       "      <td>2</td>\n",
       "      <td>19</td>\n",
       "      <td>35</td>\n",
       "      <td>18</td>\n",
       "      <td>15</td>\n",
       "      <td>5</td>\n",
       "      <td>0</td>\n",
       "      <td>55.0</td>\n",
       "      <td>21.5</td>\n",
       "      <td>35</td>\n",
       "      <td>6</td>\n",
       "    </tr>\n",
       "  </tbody>\n",
       "</table>\n",
       "</div>"
      ],
      "text/plain": [
       "   number_of_peak  Age  Length_of_cycle  Estimated_day_of_ovulution  \\\n",
       "0               3   18               27                          14   \n",
       "1               4   18               25                          17   \n",
       "2               2   19               30                          17   \n",
       "3               3   19               28                          16   \n",
       "4               2   19               35                          18   \n",
       "\n",
       "   Length_of_Leutal_Phase  Length_of_menses  Unusual_Bleeding  Weight   BMI  \\\n",
       "0                       9                 5                 0    76.0  26.3   \n",
       "1                      10                 6                 1    76.0  26.3   \n",
       "2                      13                 4                 0    56.0  21.9   \n",
       "3                      14                 6                 0    61.0  25.4   \n",
       "4                      15                 5                 0    55.0  21.5   \n",
       "\n",
       "   Mean_of_length_of_cycle  Menses_score  \n",
       "0                       30             3  \n",
       "1                       30             6  \n",
       "2                       30             1  \n",
       "3                       30             2  \n",
       "4                       35             6  "
      ]
     },
     "execution_count": 13,
     "metadata": {},
     "output_type": "execute_result"
    }
   ],
   "source": [
    "df.head()"
   ]
  },
  {
   "cell_type": "code",
   "execution_count": 14,
   "id": "9a24bf88",
   "metadata": {},
   "outputs": [],
   "source": [
    "#Examaning a correlation matrix of all the features \n",
    "\n",
    "corrmat = df.corr()\n",
    "plt.subplots(figsize=(18,18))\n",
    "sns.heatmap(corrmat,cmap=\"Pastel1\", square=True);"
   ]
  },
  {
   "cell_type": "code",
   "execution_count": 15,
   "id": "1ce5d1d7",
   "metadata": {
    "scrolled": true
   },
   "outputs": [
    {
     "data": {
      "text/plain": [
       "Length_of_cycle               1.000000\n",
       "Mean_of_length_of_cycle       0.647733\n",
       "Estimated_day_of_ovulution    0.312257\n",
       "Length_of_Leutal_Phase        0.279700\n",
       "number_of_peak                0.163817\n",
       "Menses_score                 -0.013933\n",
       "Length_of_menses             -0.032994\n",
       "Weight                       -0.071218\n",
       "Age                          -0.072735\n",
       "Unusual_Bleeding             -0.121798\n",
       "BMI                          -0.148648\n",
       "Name: Length_of_cycle, dtype: float64"
      ]
     },
     "execution_count": 15,
     "metadata": {},
     "output_type": "execute_result"
    }
   ],
   "source": [
    "#How all the features correlate with length of cycle\n",
    "\n",
    "corrmat[\"Length_of_cycle\"].sort_values(ascending=False)"
   ]
  },
  {
   "cell_type": "code",
   "execution_count": 16,
   "id": "9c7ce75f",
   "metadata": {},
   "outputs": [
    {
     "data": {
      "text/plain": [
       "Menses_score                  1.000000\n",
       "Length_of_Leutal_Phase        0.354059\n",
       "number_of_peak                0.224772\n",
       "Unusual_Bleeding              0.195167\n",
       "Mean_of_length_of_cycle       0.194479\n",
       "Age                           0.073570\n",
       "Length_of_menses              0.064663\n",
       "Estimated_day_of_ovulution    0.028509\n",
       "Length_of_cycle              -0.013933\n",
       "BMI                          -0.082456\n",
       "Weight                       -0.093799\n",
       "Name: Menses_score, dtype: float64"
      ]
     },
     "execution_count": 16,
     "metadata": {},
     "output_type": "execute_result"
    }
   ],
   "source": [
    "#How all the features correlate with the menses score\n",
    "\n",
    "corrmat[\"Menses_score\"].sort_values(ascending=False)"
   ]
  },
  {
   "cell_type": "code",
   "execution_count": 18,
   "id": "58c71cea",
   "metadata": {},
   "outputs": [
    {
     "name": "stderr",
     "output_type": "stream",
     "text": [
      "C:\\Users\\MY\\AppData\\Local\\Temp\\ipykernel_11228\\2373365680.py:13: UserWarning: Matplotlib is currently using module://matplotlib_inline.backend_inline, which is a non-GUI backend, so cannot show the figure.\n",
      "  plt.show()\n"
     ]
    }
   ],
   "source": [
    "#Having a look at features bearing significant correlation\n",
    "\n",
    "plt.figure(figsize=(12,12))\n",
    "k = 12 #number of variables with positive for heatmap\n",
    "l = 3 #number of variables with negative for heatmap\n",
    "cols_p = corrmat.nlargest(k, \"Menses_score\")[\"Menses_score\"].index \n",
    "cols_n = corrmat.nsmallest(l, \"Menses_score\")[\"Menses_score\"].index\n",
    "cols = cols_p.append(cols_n) \n",
    "\n",
    "cm = np.corrcoef(df[cols].values.T)\n",
    "sns.set(font_scale=1.25)\n",
    "hm = sns.heatmap(cm, cbar=True,cmap=\"Pastel1\", annot=True, square=True, fmt='.2f', annot_kws={'size': 10}, yticklabels=cols.values, xticklabels=cols.values)\n",
    "plt.show()"
   ]
  },
  {
   "cell_type": "code",
   "execution_count": 21,
   "id": "d1a9113d",
   "metadata": {},
   "outputs": [],
   "source": [
    "X = df.drop(columns=['Length_of_cycle'])\n",
    "y = df['Length_of_cycle']"
   ]
  },
  {
   "cell_type": "code",
   "execution_count": 25,
   "id": "fd24647b",
   "metadata": {},
   "outputs": [],
   "source": [
    "from sklearn.model_selection import train_test_split\n",
    "\n",
    "X_train,X_test, y_train, y_test = train_test_split(X,y, test_size=0.3, random_state=42) "
   ]
  },
  {
   "cell_type": "code",
   "execution_count": 26,
   "id": "a7a1d197",
   "metadata": {},
   "outputs": [
    {
     "data": {
      "text/html": [
       "<style>#sk-container-id-2 {color: black;background-color: white;}#sk-container-id-2 pre{padding: 0;}#sk-container-id-2 div.sk-toggleable {background-color: white;}#sk-container-id-2 label.sk-toggleable__label {cursor: pointer;display: block;width: 100%;margin-bottom: 0;padding: 0.3em;box-sizing: border-box;text-align: center;}#sk-container-id-2 label.sk-toggleable__label-arrow:before {content: \"▸\";float: left;margin-right: 0.25em;color: #696969;}#sk-container-id-2 label.sk-toggleable__label-arrow:hover:before {color: black;}#sk-container-id-2 div.sk-estimator:hover label.sk-toggleable__label-arrow:before {color: black;}#sk-container-id-2 div.sk-toggleable__content {max-height: 0;max-width: 0;overflow: hidden;text-align: left;background-color: #f0f8ff;}#sk-container-id-2 div.sk-toggleable__content pre {margin: 0.2em;color: black;border-radius: 0.25em;background-color: #f0f8ff;}#sk-container-id-2 input.sk-toggleable__control:checked~div.sk-toggleable__content {max-height: 200px;max-width: 100%;overflow: auto;}#sk-container-id-2 input.sk-toggleable__control:checked~label.sk-toggleable__label-arrow:before {content: \"▾\";}#sk-container-id-2 div.sk-estimator input.sk-toggleable__control:checked~label.sk-toggleable__label {background-color: #d4ebff;}#sk-container-id-2 div.sk-label input.sk-toggleable__control:checked~label.sk-toggleable__label {background-color: #d4ebff;}#sk-container-id-2 input.sk-hidden--visually {border: 0;clip: rect(1px 1px 1px 1px);clip: rect(1px, 1px, 1px, 1px);height: 1px;margin: -1px;overflow: hidden;padding: 0;position: absolute;width: 1px;}#sk-container-id-2 div.sk-estimator {font-family: monospace;background-color: #f0f8ff;border: 1px dotted black;border-radius: 0.25em;box-sizing: border-box;margin-bottom: 0.5em;}#sk-container-id-2 div.sk-estimator:hover {background-color: #d4ebff;}#sk-container-id-2 div.sk-parallel-item::after {content: \"\";width: 100%;border-bottom: 1px solid gray;flex-grow: 1;}#sk-container-id-2 div.sk-label:hover label.sk-toggleable__label {background-color: #d4ebff;}#sk-container-id-2 div.sk-serial::before {content: \"\";position: absolute;border-left: 1px solid gray;box-sizing: border-box;top: 0;bottom: 0;left: 50%;z-index: 0;}#sk-container-id-2 div.sk-serial {display: flex;flex-direction: column;align-items: center;background-color: white;padding-right: 0.2em;padding-left: 0.2em;position: relative;}#sk-container-id-2 div.sk-item {position: relative;z-index: 1;}#sk-container-id-2 div.sk-parallel {display: flex;align-items: stretch;justify-content: center;background-color: white;position: relative;}#sk-container-id-2 div.sk-item::before, #sk-container-id-2 div.sk-parallel-item::before {content: \"\";position: absolute;border-left: 1px solid gray;box-sizing: border-box;top: 0;bottom: 0;left: 50%;z-index: -1;}#sk-container-id-2 div.sk-parallel-item {display: flex;flex-direction: column;z-index: 1;position: relative;background-color: white;}#sk-container-id-2 div.sk-parallel-item:first-child::after {align-self: flex-end;width: 50%;}#sk-container-id-2 div.sk-parallel-item:last-child::after {align-self: flex-start;width: 50%;}#sk-container-id-2 div.sk-parallel-item:only-child::after {width: 0;}#sk-container-id-2 div.sk-dashed-wrapped {border: 1px dashed gray;margin: 0 0.4em 0.5em 0.4em;box-sizing: border-box;padding-bottom: 0.4em;background-color: white;}#sk-container-id-2 div.sk-label label {font-family: monospace;font-weight: bold;display: inline-block;line-height: 1.2em;}#sk-container-id-2 div.sk-label-container {text-align: center;}#sk-container-id-2 div.sk-container {/* jupyter's `normalize.less` sets `[hidden] { display: none; }` but bootstrap.min.css set `[hidden] { display: none !important; }` so we also need the `!important` here to be able to override the default hidden behavior on the sphinx rendered scikit-learn.org. See: https://github.com/scikit-learn/scikit-learn/issues/21755 */display: inline-block !important;position: relative;}#sk-container-id-2 div.sk-text-repr-fallback {display: none;}</style><div id=\"sk-container-id-2\" class=\"sk-top-container\"><div class=\"sk-text-repr-fallback\"><pre>RandomForestRegressor(random_state=42)</pre><b>In a Jupyter environment, please rerun this cell to show the HTML representation or trust the notebook. <br />On GitHub, the HTML representation is unable to render, please try loading this page with nbviewer.org.</b></div><div class=\"sk-container\" hidden><div class=\"sk-item\"><div class=\"sk-estimator sk-toggleable\"><input class=\"sk-toggleable__control sk-hidden--visually\" id=\"sk-estimator-id-2\" type=\"checkbox\" checked><label for=\"sk-estimator-id-2\" class=\"sk-toggleable__label sk-toggleable__label-arrow\">RandomForestRegressor</label><div class=\"sk-toggleable__content\"><pre>RandomForestRegressor(random_state=42)</pre></div></div></div></div></div>"
      ],
      "text/plain": [
       "RandomForestRegressor(random_state=42)"
      ]
     },
     "execution_count": 26,
     "metadata": {},
     "output_type": "execute_result"
    }
   ],
   "source": [
    "from sklearn.ensemble import RandomForestRegressor\n",
    "from sklearn.metrics import mean_absolute_error, mean_squared_error, r2_score\n",
    "\n",
    "# Train a Random Forest Regressor\n",
    "model = RandomForestRegressor(random_state=42)\n",
    "model.fit(X_train, y_train)\n"
   ]
  },
  {
   "cell_type": "code",
   "execution_count": 28,
   "id": "3938eff9",
   "metadata": {},
   "outputs": [],
   "source": [
    "# Make predictions and evaluate the model\n",
    "y_pred = model.predict(X_test)"
   ]
  },
  {
   "cell_type": "code",
   "execution_count": 29,
   "id": "59797b5d",
   "metadata": {},
   "outputs": [],
   "source": [
    "# Evaluate the model\n",
    "mae = mean_absolute_error(y_test, y_pred)\n",
    "mse = mean_squared_error(y_test, y_pred)\n",
    "r2 = r2_score(y_test, y_pred)"
   ]
  },
  {
   "cell_type": "code",
   "execution_count": 30,
   "id": "6ffbb55e",
   "metadata": {},
   "outputs": [
    {
     "name": "stdout",
     "output_type": "stream",
     "text": [
      "Mean Absolute Error (MAE): 1.7191530612244896\n",
      "Mean Squared Error (MSE): 6.035874485312831\n",
      "R-squared (R2): 0.6838677492422646\n"
     ]
    }
   ],
   "source": [
    "# Print evaluation metrics\n",
    "print(f'Mean Absolute Error (MAE): {mae}')\n",
    "print(f'Mean Squared Error (MSE): {mse}')\n",
    "print(f'R-squared (R2): {r2}')"
   ]
  },
  {
   "cell_type": "code",
   "execution_count": 34,
   "id": "b1d60eff",
   "metadata": {},
   "outputs": [
    {
     "name": "stdout",
     "output_type": "stream",
     "text": [
      "Predicted Length of Cycle: 27.744\n"
     ]
    }
   ],
   "source": [
    "# Example of new data for which we want to predict the Length of Cycle\n",
    "new_data = {\n",
    "    'number_of_peak': 3,\n",
    "    'Age': 25,\n",
    "    'Estimated_day_of_ovulution': 15,\n",
    "    'Length_of_Leutal_Phase': 12,\n",
    "    'Length_of_menses': 5,\n",
    "    'Unusual_Bleeding': 0,  # 0 means 'no' for unusual bleeding\n",
    "    'Weight': 70.0,\n",
    "    'BMI': 22.5,\n",
    "    'Mean_of_length_of_cycle': 29,\n",
    "    'Menses_score': 4\n",
    "}\n",
    "\n",
    "# Convert the new data into a DataFrame to match the format of the model's training data\n",
    "import pandas as pd\n",
    "new_data_df = pd.DataFrame([new_data])\n",
    "\n",
    "# Use the trained model to predict the length of cycle\n",
    "predicted_length_of_cycle = model.predict(new_data_df)\n",
    "\n",
    "# Output the prediction\n",
    "print(f\"Predicted Length of Cycle: {predicted_length_of_cycle[0]}\")"
   ]
  },
  {
   "cell_type": "code",
   "execution_count": null,
   "id": "59ec0ceb",
   "metadata": {},
   "outputs": [],
   "source": []
  },
  {
   "cell_type": "code",
   "execution_count": null,
   "id": "81333a2f",
   "metadata": {},
   "outputs": [],
   "source": []
  }
 ],
 "metadata": {
  "kernelspec": {
   "display_name": "Python 3 (ipykernel)",
   "language": "python",
   "name": "python3"
  },
  "language_info": {
   "codemirror_mode": {
    "name": "ipython",
    "version": 3
   },
   "file_extension": ".py",
   "mimetype": "text/x-python",
   "name": "python",
   "nbconvert_exporter": "python",
   "pygments_lexer": "ipython3",
   "version": "3.11.3"
  }
 },
 "nbformat": 4,
 "nbformat_minor": 5
}
